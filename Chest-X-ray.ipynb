{
  "nbformat": 4,
  "nbformat_minor": 0,
  "metadata": {
    "colab": {
      "provenance": []
    },
    "kernelspec": {
      "name": "python3",
      "display_name": "Python 3"
    },
    "language_info": {
      "name": "python"
    },
    "accelerator": "GPU",
    "gpuClass": "standard"
  },
  "cells": [
    {
      "cell_type": "code",
      "source": [
        "from google.colab import drive\n",
        "drive.mount('/content/drive')"
      ],
      "metadata": {
        "id": "MhVaUKbx-x2R"
      },
      "execution_count": null,
      "outputs": []
    },
    {
      "cell_type": "code",
      "source": [
        "pip install SimpleITK"
      ],
      "metadata": {
        "id": "xkWzAzeE1Yfn"
      },
      "execution_count": null,
      "outputs": []
    },
    {
      "cell_type": "code",
      "source": [
        "pip install split-folders"
      ],
      "metadata": {
        "id": "nsWLBRQPv1Rn"
      },
      "execution_count": null,
      "outputs": []
    },
    {
      "cell_type": "markdown",
      "source": [
        "Let's try to build the model that can predict pneumonia from given x-ray image."
      ],
      "metadata": {
        "id": "Y-do-oAVdbIX"
      }
    },
    {
      "cell_type": "code",
      "source": [
        "# Importing the libraries\n",
        "# We will be using Tensorflow 2.0 for the Classification.\n",
        "import splitfolders\n",
        "import tensorflow as tf\n",
        "from tensorflow.keras.layers import Input, Dense, Dropout, Conv2D, MaxPooling2D, Flatten, Dropout, BatchNormalization\n",
        "from tensorflow.keras.models import Model\n",
        "from tensorflow.keras.optimizers import Adam\n",
        "from tensorflow.keras.preprocessing.image import ImageDataGenerator\n",
        "from tensorflow.keras.callbacks import EarlyStopping, ReduceLROnPlateau, ModelCheckpoint\n",
        "from tensorflow.keras.regularizers import l2\n",
        "\n",
        "import numpy as np\n",
        "import SimpleITK as sitk\n",
        "import cv2 as cv\n",
        "import matplotlib.pyplot as plt\n",
        "import os\n",
        "\n",
        "from sklearn.model_selection import train_test_split\n",
        "from mlxtend.plotting import plot_confusion_matrix\n",
        "from sklearn.metrics import confusion_matrix"
      ],
      "metadata": {
        "id": "EJkQXvDD1l5W"
      },
      "execution_count": null,
      "outputs": []
    },
    {
      "cell_type": "markdown",
      "source": [
        "Load ALL data which contain 2 folders Normal and Pneumonia. then split it to NEW data which contain 3 folders train/test/val "
      ],
      "metadata": {
        "id": "MkCa-u0N9Dk7"
      }
    },
    {
      "cell_type": "code",
      "source": [
        "# Split with a ratio.\n",
        "splitfolders.ratio(\"/content/drive/MyDrive/Dataset/ALL\", output=\"/content/drive/MyDrive/Dataset/NEW\",\n",
        "    seed=1337, ratio=(.6, .2, .2), group_prefix=None, move=False) # default values\n"
      ],
      "metadata": {
        "id": "tyK3KXN-2ReG"
      },
      "execution_count": null,
      "outputs": []
    },
    {
      "cell_type": "markdown",
      "source": [
        "Preprocessing the images"
      ],
      "metadata": {
        "id": "_oc5ULDiaR9w"
      }
    },
    {
      "cell_type": "code",
      "source": [
        "image_size = 256       #resize all images to 256*256\n",
        "\n",
        "labels = ['NORMAL', 'PNEUMONIA']          #labels from the folders"
      ],
      "metadata": {
        "id": "On9AxXpG1qrB"
      },
      "execution_count": null,
      "outputs": []
    },
    {
      "cell_type": "code",
      "source": [
        "def create_training_data(data_dir):    #creating the training data\n",
        "    \n",
        "    images = []\n",
        "    \n",
        "    for label in labels:\n",
        "        dir = os.path.join(data_dir,label)\n",
        "        class_num = labels.index(label)\n",
        "        \n",
        "        for image in os.listdir(dir):    #going through all the images in different folders and resizing them\n",
        "            \n",
        "            image_read = cv.imread(os.path.join(dir,image),cv.IMREAD_GRAYSCALE)\n",
        "            image_resized = cv.resize(image_read,(image_size,image_size))\n",
        "            images.append([image_resized,class_num])\n",
        "            \n",
        "    return np.array(images)"
      ],
      "metadata": {
        "id": "zlsOaPjw1sqc"
      },
      "execution_count": null,
      "outputs": []
    },
    {
      "cell_type": "code",
      "source": [
        "import warnings\n",
        "warnings.filterwarnings(\"ignore\", category=np.VisibleDeprecationWarning) \n",
        "train = create_training_data('/content/drive/MyDrive/dataset/NEW/train')\n",
        "test = create_training_data('/content/drive/MyDrive/dataset/NEW/test')\n",
        "val = create_training_data('/content/drive/MyDrive/dataset/NEW/val')"
      ],
      "metadata": {
        "id": "WCgtAJ7l1tP4"
      },
      "execution_count": null,
      "outputs": []
    },
    {
      "cell_type": "code",
      "source": [
        "# print the percentages to see balancing of data\n",
        "import glob\n",
        "train2 = ('/content/drive/MyDrive/dataset/NEW/train')\n",
        "pneumonia_train_images = glob.glob(train2+\"/PNEUMONIA/*.jpeg\")\n",
        "normal_train_images = glob.glob(train2+\"/NORMAL/*.jpeg\")\n",
        "\n",
        "test2 = ('/content/drive/MyDrive/dataset/NEW/test/')\n",
        "pneumonia_test_images = glob.glob(test2+\"/PNEUMONIA/*.jpeg\")\n",
        "normal_test_images = glob.glob(test2+\"/NORMAL/*.jpeg\")\n",
        "\n",
        "val2 = ('/content/drive/MyDrive/dataset/NEW/val/')\n",
        "pneumonia_val_images = glob.glob(val2+\"/PNEUMONIA/*.jpeg\")\n",
        "normal_val_images = glob.glob(val2+\"/NORMAL/*.jpeg\")"
      ],
      "metadata": {
        "id": "9qyon3cbMlhR"
      },
      "execution_count": null,
      "outputs": []
    },
    {
      "cell_type": "code",
      "source": [
        "plt.figure(figsize=(3, 7))\n",
        "plt.pie(x=np.array([len(pneumonia_train_images), len(normal_train_images)]), autopct=\"%.1f%%\", explode=[0.2,0], labels=[\"pneumonia\", \"normal\"], pctdistance=0.5)\n",
        "plt.title(\"Train\", fontsize=14);\n",
        "# imbalances data"
      ],
      "metadata": {
        "colab": {
          "base_uri": "https://localhost:8080/",
          "height": 215
        },
        "id": "yDHC-ZYcMukP",
        "outputId": "889c6aeb-0861-48d4-a9ed-7339d1f028ee"
      },
      "execution_count": null,
      "outputs": [
        {
          "output_type": "display_data",
          "data": {
            "text/plain": [
              "<Figure size 216x504 with 1 Axes>"
            ],
            "image/png": "[encoded data removed]"
          },
          "metadata": {}
        }
      ]
    },
    {
      "cell_type": "code",
      "source": [
        "plt.figure(figsize=(3, 7))\n",
        "plt.pie(x=np.array([len(pneumonia_test_images), len(normal_test_images)]), autopct=\"%.1f%%\", explode=[0.2,0], labels=[\"pneumonia\", \"normal\"], pctdistance=0.5)\n",
        "plt.title(\"Test\", fontsize=14);\n",
        "# imbalances data"
      ],
      "metadata": {
        "colab": {
          "base_uri": "https://localhost:8080/",
          "height": 215
        },
        "id": "kiO2r0DmN-eH",
        "outputId": "7dfb012b-66e1-4a03-cd99-98187e067520"
      },
      "execution_count": null,
      "outputs": [
        {
          "output_type": "display_data",
          "data": {
            "text/plain": [
              "<Figure size 216x504 with 1 Axes>"
            ],
            "image/png": "[encoded data removed]"
          },
          "metadata": {}
        }
      ]
    },
    {
      "cell_type": "code",
      "source": [
        "plt.figure(figsize=(3, 7))\n",
        "plt.pie(x=np.array([len(pneumonia_val_images), len(normal_val_images)]), autopct=\"%.1f%%\", explode=[0.2,0], labels=[\"pneumonia\", \"normal\"], pctdistance=0.5)\n",
        "plt.title(\"Val\", fontsize=14);\n",
        "# imbalances data"
      ],
      "metadata": {
        "colab": {
          "base_uri": "https://localhost:8080/",
          "height": 215
        },
        "id": "6k93bbiGOB3_",
        "outputId": "0f905c88-2373-49ed-e7eb-5b871586c9be"
      },
      "execution_count": null,
      "outputs": [
        {
          "output_type": "display_data",
          "data": {
            "text/plain": [
              "<Figure size 216x504 with 1 Axes>"
            ],
            "image/png": "[encoded data removed]"
          },
          "metadata": {}
        }
      ]
    },
    {
      "cell_type": "code",
      "source": [
        "train.shape"
      ],
      "metadata": {
        "colab": {
          "base_uri": "https://localhost:8080/"
        },
        "id": "wegiBhz81urw",
        "outputId": "631d1724-9a38-4b46-d9d4-fbafe48fb3eb"
      },
      "execution_count": null,
      "outputs": [
        {
          "output_type": "execute_result",
          "data": {
            "text/plain": [
              "(3560, 2)"
            ]
          },
          "metadata": {},
          "execution_count": 10
        }
      ]
    },
    {
      "cell_type": "code",
      "source": [
        "test.shape"
      ],
      "metadata": {
        "colab": {
          "base_uri": "https://localhost:8080/"
        },
        "id": "3qJcJCBT1wmg",
        "outputId": "76c31928-68ab-4ca6-ce5e-62ab142b3ad2"
      },
      "execution_count": null,
      "outputs": [
        {
          "output_type": "execute_result",
          "data": {
            "text/plain": [
              "(1189, 2)"
            ]
          },
          "metadata": {},
          "execution_count": 12
        }
      ]
    },
    {
      "cell_type": "code",
      "source": [
        "val.shape"
      ],
      "metadata": {
        "colab": {
          "base_uri": "https://localhost:8080/"
        },
        "id": "rmTk3Bnk1w4P",
        "outputId": "c258df24-60e7-4e43-b716-c29c587349be"
      },
      "execution_count": null,
      "outputs": [
        {
          "output_type": "execute_result",
          "data": {
            "text/plain": [
              "(1186, 2)"
            ]
          },
          "metadata": {},
          "execution_count": 12
        }
      ]
    },
    {
      "cell_type": "markdown",
      "source": [
        "Visualizing some images"
      ],
      "metadata": {
        "id": "Uxm5JCRfaXda"
      }
    },
    {
      "cell_type": "code",
      "source": [
        "plt.imshow(train[1][0], cmap='gray')\n",
        "print(labels[train[1][1]])  "
      ],
      "metadata": {
        "colab": {
          "base_uri": "https://localhost:8080/",
          "height": 286
        },
        "id": "QmIGbG661x4H",
        "outputId": "fc004ff4-c137-471a-cf8c-b2fb83d7ca8f"
      },
      "execution_count": null,
      "outputs": [
        {
          "output_type": "stream",
          "name": "stdout",
          "text": [
            "NORMAL\n"
          ]
        },
        {
          "output_type": "display_data",
          "data": {
            "text/plain": [
              "<Figure size 432x288 with 1 Axes>"
            ],
            "image/png": "[encoded data removed]"
          },
          "metadata": {
            "needs_background": "light"
          }
        }
      ]
    },
    {
      "cell_type": "code",
      "source": [
        "plt.imshow(train[3000][0], cmap='gray')\n",
        "print(labels[train[3000][1]])"
      ],
      "metadata": {
        "colab": {
          "base_uri": "https://localhost:8080/",
          "height": 286
        },
        "id": "vd95ZLXq10WB",
        "outputId": "4683996c-dbb9-4baa-d974-faf5573ceaec"
      },
      "execution_count": null,
      "outputs": [
        {
          "output_type": "stream",
          "name": "stdout",
          "text": [
            "PNEUMONIA\n"
          ]
        },
        {
          "output_type": "display_data",
          "data": {
            "text/plain": [
              "<Figure size 432x288 with 1 Axes>"
            ],
            "image/png": "[encoded data removed]"
          },
          "metadata": {
            "needs_background": "light"
          }
        }
      ]
    },
    {
      "cell_type": "markdown",
      "source": [
        "Loading the Images and Labels together"
      ],
      "metadata": {
        "id": "ye6utB5Naa2O"
      }
    },
    {
      "cell_type": "code",
      "source": [
        "# let's assign each x with images and each y with its label for all 3 set\n",
        "x_train = []\n",
        "y_train = []\n",
        "\n",
        "x_val = []\n",
        "y_val = []\n",
        "\n",
        "x_test = []\n",
        "y_test = []\n",
        "\n",
        "for feature, label in train:\n",
        "    x_train.append(feature)\n",
        "    y_train.append(label)\n",
        "\n",
        "for feature, label in test:\n",
        "    x_test.append(feature)\n",
        "    y_test.append(label)\n",
        "    \n",
        "for feature, label in val:\n",
        "    x_val.append(feature)\n",
        "    y_val.append(label)"
      ],
      "metadata": {
        "id": "txYryaFE5V8U"
      },
      "execution_count": null,
      "outputs": []
    },
    {
      "cell_type": "markdown",
      "source": [
        "Reshaping dimensions before feeding them to the neural network"
      ],
      "metadata": {
        "id": "osDYNZUKadoP"
      }
    },
    {
      "cell_type": "code",
      "source": [
        "x_train = np.array(x_train).reshape(-1, image_size, image_size, 1)\n",
        "y_train= np.array(y_train)\n",
        "\n",
        "x_val = np.array(x_val).reshape(-1, image_size, image_size, 1)\n",
        "y_val = np.array(y_val)\n",
        "\n",
        "x_test = np.array(x_test).reshape(-1, image_size, image_size, 1)\n",
        "y_test = np.array(y_test)"
      ],
      "metadata": {
        "id": "vYHOcLQD12mB"
      },
      "execution_count": null,
      "outputs": []
    },
    {
      "cell_type": "code",
      "source": [
        "x_train.shape"
      ],
      "metadata": {
        "colab": {
          "base_uri": "https://localhost:8080/"
        },
        "id": "tUMNTx9715-Y",
        "outputId": "f96a16d2-e8bf-45fe-de8e-0e2da24b1ca1"
      },
      "execution_count": null,
      "outputs": [
        {
          "output_type": "execute_result",
          "data": {
            "text/plain": [
              "(3560, 256, 256, 1)"
            ]
          },
          "metadata": {},
          "execution_count": 19
        }
      ]
    },
    {
      "cell_type": "code",
      "source": [
        "y_train.shape"
      ],
      "metadata": {
        "colab": {
          "base_uri": "https://localhost:8080/"
        },
        "id": "et1OSjFF17IL",
        "outputId": "fce86214-bc10-4fde-a99d-5b094c74d2c0"
      },
      "execution_count": null,
      "outputs": [
        {
          "output_type": "execute_result",
          "data": {
            "text/plain": [
              "(3560,)"
            ]
          },
          "metadata": {},
          "execution_count": 20
        }
      ]
    },
    {
      "cell_type": "code",
      "source": [
        "x_train = x_train / 255      # normalizing\n",
        "x_test = x_test / 255\n",
        "x_val = x_val / 255         "
      ],
      "metadata": {
        "id": "pleNNrER19W3"
      },
      "execution_count": null,
      "outputs": []
    },
    {
      "cell_type": "markdown",
      "source": [
        "Creating the CNN Model:"
      ],
      "metadata": {
        "id": "o_FpfJ5Wa97I"
      }
    },
    {
      "cell_type": "code",
      "source": [
        "i = Input(x_train.shape[1:])                                     # Input Layer\n",
        "\n",
        "a = Conv2D(16, (3,3), activation ='relu', padding = 'same')(i)   # Convolution\n",
        "a = BatchNormalization()(a)                                      # Batch Normalization\n",
        "a = Conv2D(16, (3,3), activation ='relu', padding = 'same')(i)   # Convolution                                   \n",
        "a = MaxPooling2D(2,2)(a)                                         # Max Pooling\n",
        "\n",
        "a = Conv2D(32, (3,3), activation ='relu', padding = 'same')(i)      \n",
        "a = BatchNormalization()(a)   \n",
        "a = Conv2D(32, (3,3), activation ='relu', padding = 'same')(i)                                       \n",
        "a = MaxPooling2D(2,2)(a)                                            \n",
        "\n",
        "a = Conv2D(64, (3,3), activation ='relu', padding = 'same')(a)\n",
        "a = BatchNormalization()(a)\n",
        "a = Conv2D(64, (3,3), activation ='relu', padding = 'same')(a)\n",
        "a = MaxPooling2D(2,2)(a)\n",
        "\n",
        "a = Conv2D(128, (3,3), activation ='relu', padding = 'same')(a)\n",
        "a = BatchNormalization()(a)\n",
        "a = Conv2D(128, (3,3), activation ='relu', padding = 'same')(a)\n",
        "a = MaxPooling2D(2,2)(a)\n",
        "\n",
        "a = Conv2D(256, (3,3), activation ='relu', padding = 'same')(a)\n",
        "a = BatchNormalization()(a)\n",
        "a = Conv2D(256, (3,3), activation ='relu', padding = 'same')(a)\n",
        "a = MaxPooling2D(2,2)(a)\n",
        "\n",
        "a = Flatten()(a)                                                     # Flatten\n",
        "a = Dense(512, activation = 'relu')(a)                               # Fully Connected layer\n",
        "a = Dropout(0.4)(a)\n",
        "a = Dense(512, activation = 'relu')(a)                               # Fully Connected layer\n",
        "a = Dropout(0.3)(a)\n",
        "a = Dense(512, activation = 'relu')(a)                               # Fully Connected layer\n",
        "a = Dropout(0.1)(a)\n",
        "a = Dense(512, activation = 'relu')(a)                               # Fully Connected layer\n",
        "a = Dropout(0.1)(a)\n",
        "\n",
        "a = Dense(1, activation = 'sigmoid')(a)                              # Output Layer\n",
        "\n",
        "model = Model(i,a)"
      ],
      "metadata": {
        "id": "3dj0ErxJ2DdH"
      },
      "execution_count": null,
      "outputs": []
    },
    {
      "cell_type": "code",
      "source": [
        "len(model.layers)"
      ],
      "metadata": {
        "colab": {
          "base_uri": "https://localhost:8080/"
        },
        "id": "bLpduKw5WEBu",
        "outputId": "15728b33-df87-4e89-8a66-43653dc09306"
      },
      "execution_count": null,
      "outputs": [
        {
          "output_type": "execute_result",
          "data": {
            "text/plain": [
              "25"
            ]
          },
          "metadata": {},
          "execution_count": 11
        }
      ]
    },
    {
      "cell_type": "markdown",
      "source": [
        "Compiling and viewing the model summary"
      ],
      "metadata": {
        "id": "HZYt8cmNbBNj"
      }
    },
    {
      "cell_type": "code",
      "source": [
        "model.compile(optimizer=Adam(lr = 0.0001), loss=\"binary_crossentropy\", metrics=[\"accuracy\"])\n",
        "#Loss value implies how poorly or well a model behaves after each iteration of optimization.\n",
        "#We will use binary_crossentropy since it computes the cross-entropy loss between true labels and predicted labels for binary (0 or 1) classification.\n",
        "model.summary()\n"
      ],
      "metadata": {
        "colab": {
          "base_uri": "https://localhost:8080/"
        },
        "id": "VGLQCMFl2DtP",
        "outputId": "a1b9c1d7-5987-44a2-ec68-d848ce094c17"
      },
      "execution_count": null,
      "outputs": [
        {
          "output_type": "stream",
          "name": "stdout",
          "text": [
            "Model: \"model\"\n",
            "_________________________________________________________________\n",
            " Layer (type)                Output Shape              Param #   \n",
            "=================================================================\n",
            " input_1 (InputLayer)        [(None, 256, 256, 1)]     0         \n",
            "                                                                 \n",
            " conv2d_3 (Conv2D)           (None, 256, 256, 32)      320       \n",
            "                                                                 \n",
            " max_pooling2d_1 (MaxPooling  (None, 128, 128, 32)     0         \n",
            " 2D)                                                             \n",
            "                                                                 \n",
            " conv2d_4 (Conv2D)           (None, 128, 128, 64)      18496     \n",
            "                                                                 \n",
            " batch_normalization_2 (Batc  (None, 128, 128, 64)     256       \n",
            " hNormalization)                                                 \n",
            "                                                                 \n",
            " conv2d_5 (Conv2D)           (None, 128, 128, 64)      36928     \n",
            "                                                                 \n",
            " max_pooling2d_2 (MaxPooling  (None, 64, 64, 64)       0         \n",
            " 2D)                                                             \n",
            "                                                                 \n",
            " conv2d_6 (Conv2D)           (None, 64, 64, 128)       73856     \n",
            "                                                                 \n",
            " batch_normalization_3 (Batc  (None, 64, 64, 128)      512       \n",
            " hNormalization)                                                 \n",
            "                                                                 \n",
            " conv2d_7 (Conv2D)           (None, 64, 64, 128)       147584    \n",
            "                                                                 \n",
            " max_pooling2d_3 (MaxPooling  (None, 32, 32, 128)      0         \n",
            " 2D)                                                             \n",
            "                                                                 \n",
            " conv2d_8 (Conv2D)           (None, 32, 32, 256)       295168    \n",
            "                                                                 \n",
            " batch_normalization_4 (Batc  (None, 32, 32, 256)      1024      \n",
            " hNormalization)                                                 \n",
            "                                                                 \n",
            " conv2d_9 (Conv2D)           (None, 32, 32, 256)       590080    \n",
            "                                                                 \n",
            " max_pooling2d_4 (MaxPooling  (None, 16, 16, 256)      0         \n",
            " 2D)                                                             \n",
            "                                                                 \n",
            " flatten (Flatten)           (None, 65536)             0         \n",
            "                                                                 \n",
            " dense (Dense)               (None, 512)               33554944  \n",
            "                                                                 \n",
            " dropout (Dropout)           (None, 512)               0         \n",
            "                                                                 \n",
            " dense_1 (Dense)             (None, 512)               262656    \n",
            "                                                                 \n",
            " dropout_1 (Dropout)         (None, 512)               0         \n",
            "                                                                 \n",
            " dense_2 (Dense)             (None, 512)               262656    \n",
            "                                                                 \n",
            " dropout_2 (Dropout)         (None, 512)               0         \n",
            "                                                                 \n",
            " dense_3 (Dense)             (None, 512)               262656    \n",
            "                                                                 \n",
            " dropout_3 (Dropout)         (None, 512)               0         \n",
            "                                                                 \n",
            " dense_4 (Dense)             (None, 1)                 513       \n",
            "                                                                 \n",
            "=================================================================\n",
            "Total params: 35,507,649\n",
            "Trainable params: 35,506,753\n",
            "Non-trainable params: 896\n",
            "_________________________________________________________________\n"
          ]
        },
        {
          "output_type": "stream",
          "name": "stderr",
          "text": [
            "/usr/local/lib/python3.8/dist-packages/keras/optimizers/optimizer_v2/adam.py:110: UserWarning: The `lr` argument is deprecated, use `learning_rate` instead.\n",
            "  super(Adam, self).__init__(name, **kwargs)\n"
          ]
        }
      ]
    },
    {
      "cell_type": "markdown",
      "source": [
        "Data Augmentation\n",
        "\n",
        "Keras ImageDataGenerator class allows image rescaling, resizing options. Resizing and scaling is applied on images to save time in training.also helps to avoid overfitting. By augmenting data, we will be making slight variations to our data so that we have more data, without losing semantic meaning. The augmentation occurs in the parameters of the ImageDataGenerator method"
      ],
      "metadata": {
        "id": "uPg0nOGdbEP4"
      }
    },
    {
      "cell_type": "code",
      "source": [
        "batch_size = 25\n",
        "\n",
        "train_gen = ImageDataGenerator(rotation_range=10,\n",
        "                                   horizontal_flip = True,\n",
        "                                   width_shift_range=0.1,\n",
        "                                   height_shift_range=0.1,\n",
        "                                   rescale=1.,\n",
        "                                   zoom_range=0.2,\n",
        "                                   fill_mode='nearest',\n",
        "                                   cval=0)\n",
        "\n",
        "train_generator = train_gen.flow(x_train,y_train,batch_size)\n",
        "val_generator = train_gen.flow(x_val,y_val,batch_size)\n",
        "steps_per_epoch = x_train.shape[0]//batch_size\n",
        "# train/val should have augmentation , the main resaone is imbalancing "
      ],
      "metadata": {
        "id": "fw9ySMbw2IMk"
      },
      "execution_count": null,
      "outputs": []
    },
    {
      "cell_type": "code",
      "source": [
        "callback = [EarlyStopping(patience=5, monitor='val_accuracy', restore_best_weights=True),\n",
        "            ReduceLROnPlateau(monitor = 'val_loss', patience = 2, factor=0.5, verbose=1),\n",
        "            ModelCheckpoint('xray_model_v2.h5', monitor='val_loss', verbose=1, save_best_only=True)]\n",
        "# main idea behind early stopping is to stop training before a model starts to overfit.\n",
        "# ReduceLROnPlateau reduce learning rate when a metric has stopped improving.\n",
        "# ModelCheckpoint to save the model,epochs with best validation loss."
      ],
      "metadata": {
        "id": "GM76dFeU2KFG"
      },
      "execution_count": null,
      "outputs": []
    },
    {
      "cell_type": "markdown",
      "source": [
        "Training the model:\n",
        "\n",
        "Fitting the model to (i.e. using the .fit() method on) the training data is the process of finding coefficients for the equation specified via the algorithm being used."
      ],
      "metadata": {
        "id": "oYU4c6S8bHi4"
      }
    },
    {
      "cell_type": "code",
      "source": [
        "r = model.fit(train_generator, validation_data=val_generator, steps_per_epoch = steps_per_epoch,epochs= 15, \n",
        "                       callbacks = callback )"
      ],
      "metadata": {
        "colab": {
          "base_uri": "https://localhost:8080/"
        },
        "id": "u-RL_PBIJiEq",
        "outputId": "fce1aeb5-0ac9-4217-9c5a-ef3a5043449c"
      },
      "execution_count": null,
      "outputs": [
        {
          "output_type": "stream",
          "name": "stdout",
          "text": [
            "Epoch 1/15\n",
            "142/142 [==============================] - ETA: 0s - loss: 0.5281 - accuracy: 0.7918\n",
            "Epoch 1: val_loss improved from inf to 1.76370, saving model to xray_model_v2.h5\n",
            "142/142 [==============================] - 46s 232ms/step - loss: 0.5281 - accuracy: 0.7918 - val_loss: 1.7637 - val_accuracy: 0.7201 - lr: 1.0000e-04\n",
            "Epoch 2/15\n",
            "142/142 [==============================] - ETA: 0s - loss: 0.2844 - accuracy: 0.8750\n",
            "Epoch 2: val_loss did not improve from 1.76370\n",
            "142/142 [==============================] - 26s 184ms/step - loss: 0.2844 - accuracy: 0.8750 - val_loss: 3.0013 - val_accuracy: 0.7201 - lr: 1.0000e-04\n",
            "Epoch 3/15\n",
            "142/142 [==============================] - ETA: 0s - loss: 0.2636 - accuracy: 0.8917\n",
            "Epoch 3: ReduceLROnPlateau reducing learning rate to 4.999999873689376e-05.\n",
            "\n",
            "Epoch 3: val_loss did not improve from 1.76370\n",
            "142/142 [==============================] - 27s 187ms/step - loss: 0.2636 - accuracy: 0.8917 - val_loss: 2.1980 - val_accuracy: 0.7201 - lr: 1.0000e-04\n",
            "Epoch 4/15\n",
            "142/142 [==============================] - ETA: 0s - loss: 0.2055 - accuracy: 0.9208\n",
            "Epoch 4: val_loss improved from 1.76370 to 1.14651, saving model to xray_model_v2.h5\n",
            "142/142 [==============================] - 29s 205ms/step - loss: 0.2055 - accuracy: 0.9208 - val_loss: 1.1465 - val_accuracy: 0.7209 - lr: 5.0000e-05\n",
            "Epoch 5/15\n",
            "142/142 [==============================] - ETA: 0s - loss: 0.1871 - accuracy: 0.9321\n",
            "Epoch 5: val_loss improved from 1.14651 to 0.28646, saving model to xray_model_v2.h5\n",
            "142/142 [==============================] - 28s 195ms/step - loss: 0.1871 - accuracy: 0.9321 - val_loss: 0.2865 - val_accuracy: 0.8929 - lr: 5.0000e-05\n",
            "Epoch 6/15\n",
            "142/142 [==============================] - ETA: 0s - loss: 0.1940 - accuracy: 0.9307\n",
            "Epoch 6: val_loss improved from 0.28646 to 0.24398, saving model to xray_model_v2.h5\n",
            "142/142 [==============================] - 28s 194ms/step - loss: 0.1940 - accuracy: 0.9307 - val_loss: 0.2440 - val_accuracy: 0.8963 - lr: 5.0000e-05\n",
            "Epoch 7/15\n",
            "142/142 [==============================] - ETA: 0s - loss: 0.1827 - accuracy: 0.9301\n",
            "Epoch 7: val_loss improved from 0.24398 to 0.20243, saving model to xray_model_v2.h5\n",
            "142/142 [==============================] - 28s 193ms/step - loss: 0.1827 - accuracy: 0.9301 - val_loss: 0.2024 - val_accuracy: 0.9325 - lr: 5.0000e-05\n",
            "Epoch 8/15\n",
            "142/142 [==============================] - ETA: 0s - loss: 0.1790 - accuracy: 0.9392\n",
            "Epoch 8: val_loss did not improve from 0.20243\n",
            "142/142 [==============================] - 26s 182ms/step - loss: 0.1790 - accuracy: 0.9392 - val_loss: 0.3004 - val_accuracy: 0.8592 - lr: 5.0000e-05\n",
            "Epoch 9/15\n",
            "142/142 [==============================] - ETA: 0s - loss: 0.1818 - accuracy: 0.9358\n",
            "Epoch 9: ReduceLROnPlateau reducing learning rate to 2.499999936844688e-05.\n",
            "\n",
            "Epoch 9: val_loss did not improve from 0.20243\n",
            "142/142 [==============================] - 27s 192ms/step - loss: 0.1818 - accuracy: 0.9358 - val_loss: 0.2765 - val_accuracy: 0.8820 - lr: 5.0000e-05\n",
            "Epoch 10/15\n",
            "142/142 [==============================] - ETA: 0s - loss: 0.1522 - accuracy: 0.9443\n",
            "Epoch 10: val_loss improved from 0.20243 to 0.14893, saving model to xray_model_v2.h5\n",
            "142/142 [==============================] - 28s 195ms/step - loss: 0.1522 - accuracy: 0.9443 - val_loss: 0.1489 - val_accuracy: 0.9477 - lr: 2.5000e-05\n",
            "Epoch 11/15\n",
            "142/142 [==============================] - ETA: 0s - loss: 0.1517 - accuracy: 0.9431\n",
            "Epoch 11: val_loss did not improve from 0.14893\n",
            "142/142 [==============================] - 26s 182ms/step - loss: 0.1517 - accuracy: 0.9431 - val_loss: 0.1773 - val_accuracy: 0.9325 - lr: 2.5000e-05\n",
            "Epoch 12/15\n",
            "142/142 [==============================] - ETA: 0s - loss: 0.1514 - accuracy: 0.9508\n",
            "Epoch 12: val_loss improved from 0.14893 to 0.14441, saving model to xray_model_v2.h5\n",
            "142/142 [==============================] - 28s 195ms/step - loss: 0.1514 - accuracy: 0.9508 - val_loss: 0.1444 - val_accuracy: 0.9401 - lr: 2.5000e-05\n",
            "Epoch 13/15\n",
            "142/142 [==============================] - ETA: 0s - loss: 0.1486 - accuracy: 0.9454\n",
            "Epoch 13: val_loss did not improve from 0.14441\n",
            "142/142 [==============================] - 26s 183ms/step - loss: 0.1486 - accuracy: 0.9454 - val_loss: 0.3554 - val_accuracy: 0.8685 - lr: 2.5000e-05\n",
            "Epoch 14/15\n",
            "142/142 [==============================] - ETA: 0s - loss: 0.1418 - accuracy: 0.9494\n",
            "Epoch 14: ReduceLROnPlateau reducing learning rate to 1.249999968422344e-05.\n",
            "\n",
            "Epoch 14: val_loss did not improve from 0.14441\n",
            "142/142 [==============================] - 27s 191ms/step - loss: 0.1418 - accuracy: 0.9494 - val_loss: 0.1882 - val_accuracy: 0.9300 - lr: 2.5000e-05\n",
            "Epoch 15/15\n",
            "142/142 [==============================] - ETA: 0s - loss: 0.1393 - accuracy: 0.9479\n",
            "Epoch 15: val_loss improved from 0.14441 to 0.13654, saving model to xray_model_v2.h5\n",
            "142/142 [==============================] - 28s 194ms/step - loss: 0.1393 - accuracy: 0.9479 - val_loss: 0.1365 - val_accuracy: 0.9536 - lr: 1.2500e-05\n"
          ]
        }
      ]
    },
    {
      "cell_type": "markdown",
      "source": [
        "Plotting the Losses and Accuracy:\n",
        "\n",
        "Plot Accuracy and Loss. The fit() returns a History object which is \" r \" that can be used to visualize the training history. It contains a dictionary with loss and metric values at each epoch calculated both for training and validation datasets. For example, lets extract the validation accuracy and loss metric and plot it."
      ],
      "metadata": {
        "id": "OBd-NyUkb7zl"
      }
    },
    {
      "cell_type": "code",
      "source": [
        "def plot_history(r, title='', axs=None, exp_name=\"\"):\n",
        "    if axs is not None:\n",
        "        ax1, ax2 = axs\n",
        "    else:\n",
        "        f, (ax1, ax2) = plt.subplots(1, 2, figsize=(12, 4))\n",
        "    \n",
        "    if len(exp_name) > 0 and exp_name[0] != '_':\n",
        "        exp_name = '_' + exp_name\n",
        "    ax1.plot(r.history['loss'], label='train' + exp_name)\n",
        "    ax1.plot(r.history['val_loss'], label='val' + exp_name)\n",
        "    #ax1.set_ylim(-0.1, 0.1)\n",
        "    ax1.set_title('loss')\n",
        "    ax1.legend()\n",
        "\n",
        "    ax2.plot(r.history['accuracy'], label='train accuracy'  + exp_name)\n",
        "    ax2.plot(r.history['val_accuracy'], label='val accuracy'  + exp_name)\n",
        "    #ax2.set_ylim(0.9, 1.1)\n",
        "    ax2.set_title('Accuracy')\n",
        "    ax2.legend()\n",
        "    return (ax1, ax2)\n",
        "\n",
        "plot_history(r, title='', axs=None, exp_name=\"\");"
      ],
      "metadata": {
        "colab": {
          "base_uri": "https://localhost:8080/",
          "height": 281
        },
        "id": "x_jkIL0ULoD7",
        "outputId": "567a2a55-5c30-46b7-ecdb-dc9d452f9dcf"
      },
      "execution_count": null,
      "outputs": [
        {
          "output_type": "display_data",
          "data": {
            "text/plain": [
              "<Figure size 864x288 with 2 Axes>"
            ],
            "image/png": "[encoded data removed]"
          },
          "metadata": {
            "needs_background": "light"
          }
        }
      ]
    },
    {
      "cell_type": "code",
      "source": [
        "print(\"Loss of the model is - \" , model.evaluate(x_test,y_test)[0])\n",
        "print(\"Accuracy of the model is - \" , model.evaluate(x_test,y_test)[1]*100 , \"%\")"
      ],
      "metadata": {
        "colab": {
          "base_uri": "https://localhost:8080/"
        },
        "id": "JC1rA1GHLsUz",
        "outputId": "d3b436c9-018c-43a0-b977-2606f94e783e"
      },
      "execution_count": null,
      "outputs": [
        {
          "output_type": "stream",
          "name": "stdout",
          "text": [
            "38/38 [==============================] - 4s 62ms/step - loss: 0.1355 - accuracy: 0.9479\n",
            "Loss of the model is -  0.135450541973114\n",
            "38/38 [==============================] - 2s 42ms/step - loss: 0.1355 - accuracy: 0.9479\n",
            "Accuracy of the model is -  94.78553533554077 %\n"
          ]
        }
      ]
    },
    {
      "cell_type": "markdown",
      "source": [
        "Loading model to try and improve further:"
      ],
      "metadata": {
        "id": "VTLq0dGTcANF"
      }
    },
    {
      "cell_type": "code",
      "source": [
        "new_model = tf.keras.models.load_model('xray_model_v2.h5')   #loading model to train further"
      ],
      "metadata": {
        "id": "A8fqDtCj2X47"
      },
      "execution_count": null,
      "outputs": []
    },
    {
      "cell_type": "code",
      "source": [
        "new_model.compile(optimizer = Adam(lr = 0.00001), loss = 'binary_crossentropy', metrics = ['accuracy']) \n",
        "\n",
        "checkpoint1 = ModelCheckpoint('xray_model_v2.h5', monitor='val_loss', verbose=1, save_best_only=True, mode='auto')\n",
        "\n",
        "batch_size = 4\n",
        "\n",
        "r1 = new_model.fit(train_generator, validation_data=val_generator, steps_per_epoch = steps_per_epoch, epochs= 10,\n",
        "                       callbacks = [checkpoint1])"
      ],
      "metadata": {
        "colab": {
          "base_uri": "https://localhost:8080/"
        },
        "id": "CjTY8Hkq2Zu5",
        "outputId": "1cc49b85-8eb1-4de6-9695-dbe4927f6f9f"
      },
      "execution_count": null,
      "outputs": [
        {
          "output_type": "stream",
          "name": "stdout",
          "text": [
            "Epoch 1/10\n",
            "142/142 [==============================] - ETA: 0s - loss: 0.1294 - accuracy: 0.9545\n",
            "Epoch 1: val_loss improved from inf to 0.13317, saving model to xray_model_v2.h5\n",
            "142/142 [==============================] - 30s 201ms/step - loss: 0.1294 - accuracy: 0.9545 - val_loss: 0.1332 - val_accuracy: 0.9587\n",
            "Epoch 2/10\n",
            "142/142 [==============================] - ETA: 0s - loss: 0.1281 - accuracy: 0.9542\n",
            "Epoch 2: val_loss improved from 0.13317 to 0.12163, saving model to xray_model_v2.h5\n",
            "142/142 [==============================] - 29s 205ms/step - loss: 0.1281 - accuracy: 0.9542 - val_loss: 0.1216 - val_accuracy: 0.9587\n",
            "Epoch 3/10\n",
            "142/142 [==============================] - ETA: 0s - loss: 0.1331 - accuracy: 0.9511\n",
            "Epoch 3: val_loss did not improve from 0.12163\n",
            "142/142 [==============================] - 27s 192ms/step - loss: 0.1331 - accuracy: 0.9511 - val_loss: 0.1304 - val_accuracy: 0.9562\n",
            "Epoch 4/10\n",
            "142/142 [==============================] - ETA: 0s - loss: 0.1280 - accuracy: 0.9545\n",
            "Epoch 4: val_loss did not improve from 0.12163\n",
            "142/142 [==============================] - 26s 184ms/step - loss: 0.1280 - accuracy: 0.9545 - val_loss: 0.1769 - val_accuracy: 0.9334\n",
            "Epoch 5/10\n",
            "142/142 [==============================] - ETA: 0s - loss: 0.1302 - accuracy: 0.9525\n",
            "Epoch 5: val_loss did not improve from 0.12163\n",
            "142/142 [==============================] - 26s 183ms/step - loss: 0.1302 - accuracy: 0.9525 - val_loss: 0.3027 - val_accuracy: 0.8820\n",
            "Epoch 6/10\n",
            "142/142 [==============================] - ETA: 0s - loss: 0.1243 - accuracy: 0.9555\n",
            "Epoch 6: val_loss improved from 0.12163 to 0.12083, saving model to xray_model_v2.h5\n",
            "142/142 [==============================] - 28s 195ms/step - loss: 0.1243 - accuracy: 0.9555 - val_loss: 0.1208 - val_accuracy: 0.9528\n",
            "Epoch 7/10\n",
            "142/142 [==============================] - ETA: 0s - loss: 0.1262 - accuracy: 0.9530\n",
            "Epoch 7: val_loss improved from 0.12083 to 0.11415, saving model to xray_model_v2.h5\n",
            "142/142 [==============================] - 28s 195ms/step - loss: 0.1262 - accuracy: 0.9530 - val_loss: 0.1142 - val_accuracy: 0.9587\n",
            "Epoch 8/10\n",
            "142/142 [==============================] - ETA: 0s - loss: 0.1223 - accuracy: 0.9547\n",
            "Epoch 8: val_loss did not improve from 0.11415\n",
            "142/142 [==============================] - 27s 190ms/step - loss: 0.1223 - accuracy: 0.9547 - val_loss: 0.1402 - val_accuracy: 0.9452\n",
            "Epoch 9/10\n",
            "142/142 [==============================] - ETA: 0s - loss: 0.1201 - accuracy: 0.9570\n",
            "Epoch 9: val_loss improved from 0.11415 to 0.11068, saving model to xray_model_v2.h5\n",
            "142/142 [==============================] - 28s 196ms/step - loss: 0.1201 - accuracy: 0.9570 - val_loss: 0.1107 - val_accuracy: 0.9578\n",
            "Epoch 10/10\n",
            "142/142 [==============================] - ETA: 0s - loss: 0.1138 - accuracy: 0.9579\n",
            "Epoch 10: val_loss did not improve from 0.11068\n",
            "142/142 [==============================] - 26s 183ms/step - loss: 0.1138 - accuracy: 0.9579 - val_loss: 0.1650 - val_accuracy: 0.9300\n"
          ]
        }
      ]
    },
    {
      "cell_type": "markdown",
      "source": [
        "Loading Final Model for predictions:"
      ],
      "metadata": {
        "id": "c5KOFc8ucDhE"
      }
    },
    {
      "cell_type": "code",
      "source": [
        "final_model = tf.keras.models.load_model('xray_model_v2.h5')"
      ],
      "metadata": {
        "id": "4cz_Hzvb2bk2"
      },
      "execution_count": null,
      "outputs": []
    },
    {
      "cell_type": "markdown",
      "source": [
        "Predictions:"
      ],
      "metadata": {
        "id": "slNC-s6dcFf_"
      }
    },
    {
      "cell_type": "code",
      "source": [
        "pred = final_model.predict(x_test, batch_size = 8)\n",
        "pred"
      ],
      "metadata": {
        "colab": {
          "base_uri": "https://localhost:8080/"
        },
        "id": "HNdLdUWt2cwN",
        "outputId": "e0528083-874c-4101-8a72-f0f42a7c0e78"
      },
      "execution_count": null,
      "outputs": [
        {
          "output_type": "stream",
          "name": "stdout",
          "text": [
            "149/149 [==============================] - 3s 16ms/step\n"
          ]
        },
        {
          "output_type": "execute_result",
          "data": {
            "text/plain": [
              "array([[0.13836753],\n",
              "       [0.2514606 ],\n",
              "       [0.2003167 ],\n",
              "       ...,\n",
              "       [0.552957  ],\n",
              "       [0.92457074],\n",
              "       [0.98664176]], dtype=float32)"
            ]
          },
          "metadata": {},
          "execution_count": 18
        }
      ]
    },
    {
      "cell_type": "markdown",
      "source": [
        "Setting all predictions above 0.5 to 1:"
      ],
      "metadata": {
        "id": "oET35B8_cHz6"
      }
    },
    {
      "cell_type": "code",
      "source": [
        "pred_final = np.where(pred>0.5,1,0)\n",
        "pred_final"
      ],
      "metadata": {
        "colab": {
          "base_uri": "https://localhost:8080/"
        },
        "id": "QrkzPWHp2eNu",
        "outputId": "f8fe43ec-5ae0-40e2-a166-09550f4f3818"
      },
      "execution_count": null,
      "outputs": [
        {
          "output_type": "execute_result",
          "data": {
            "text/plain": [
              "array([[0],\n",
              "       [0],\n",
              "       [0],\n",
              "       ...,\n",
              "       [1],\n",
              "       [1],\n",
              "       [1]])"
            ]
          },
          "metadata": {},
          "execution_count": 19
        }
      ]
    },
    {
      "cell_type": "markdown",
      "source": [
        "Confusion Matrix:\n",
        "\n",
        "A confusion matrix describes the performance of the classification model. In other words, confusion matrix is a way to summarize classifier performance."
      ],
      "metadata": {
        "id": "yWl54cvLcJ8e"
      }
    },
    {
      "cell_type": "code",
      "source": [
        "# Get the confusion matrix\n",
        "CM = confusion_matrix(y_test, pred_final)\n",
        "\n",
        "fig, ax = plot_confusion_matrix(conf_mat=CM ,  figsize=(8,8))\n",
        "plt.title('Confusion matrix')\n",
        "plt.xticks(range(2), ['Normal','Pneumonia'], fontsize=10)\n",
        "plt.yticks(range(2), ['Normal','Pneumonia'], fontsize=10)\n",
        "plt.show()"
      ],
      "metadata": {
        "colab": {
          "base_uri": "https://localhost:8080/",
          "height": 535
        },
        "id": "Y463vygg2fwc",
        "outputId": "4481424c-152e-4498-a401-590965ccdc95"
      },
      "execution_count": null,
      "outputs": [
        {
          "output_type": "display_data",
          "data": {
            "text/plain": [
              "<Figure size 576x576 with 1 Axes>"
            ],
            "image/png": "[encoded data removed]"
          },
          "metadata": {
            "needs_background": "light"
          }
        }
      ]
    },
    {
      "cell_type": "code",
      "source": [
        "# manually computed \n",
        "acc=(821+309)/(821+309+24+35)\n",
        "acc"
      ],
      "metadata": {
        "colab": {
          "base_uri": "https://localhost:8080/"
        },
        "id": "VOoivHYH2hOK",
        "outputId": "721b7fb8-2556-4231-9c97-4609bba727f0"
      },
      "execution_count": null,
      "outputs": [
        {
          "output_type": "execute_result",
          "data": {
            "text/plain": [
              "0.9503784693019344"
            ]
          },
          "metadata": {},
          "execution_count": 21
        }
      ]
    },
    {
      "cell_type": "markdown",
      "source": [
        "Let's computer the performance with other metrices :"
      ],
      "metadata": {
        "id": "DzkBecIG_J42"
      }
    },
    {
      "cell_type": "code",
      "source": [
        "def perf_measure(y_test, pred_final):\n",
        "    TP = 0\n",
        "    FP = 0\n",
        "    TN = 0\n",
        "    FN = 0\n",
        "\n",
        "    for i in range(len(pred_final)): \n",
        "        if y_test[i]==pred_final[i]==1:\n",
        "           TP += 1\n",
        "        if y_test[i]==1 and y_test[i]!=pred_final[i]:\n",
        "           FP += 1\n",
        "        if y_test[i]==pred_final[i]==0:\n",
        "           TN += 1\n",
        "        if y_test[i]==0 and y_test[i]!=pred_final[i]:\n",
        "           FN += 1\n",
        "\n",
        "    return(TP, FP, TN, FN)"
      ],
      "metadata": {
        "id": "sXg1PsnI2if6"
      },
      "execution_count": null,
      "outputs": []
    },
    {
      "cell_type": "code",
      "source": [
        "tp, fp, tn ,fn = perf_measure(y_test,pred_final)\n",
        "\n",
        "precision = tp/(tp+fp)\n",
        "recall = tp/(tp+fn)\n",
        "f_score = (2*precision*recall)/(precision+recall)\n",
        "\n",
        "print(\"Recall of the model is {:.2f}\".format(recall))\n",
        "print(\"Precision of the model is {:.2f}\".format(precision))\n",
        "print(\"F-Score is {:.2f}\".format(f_score))"
      ],
      "metadata": {
        "colab": {
          "base_uri": "https://localhost:8080/"
        },
        "id": "tV5hDjrZ2j-t",
        "outputId": "68bb9b18-0252-4d8e-a4ef-81035fc9afd2"
      },
      "execution_count": null,
      "outputs": [
        {
          "output_type": "stream",
          "name": "stdout",
          "text": [
            "Recall of the model is 0.97\n",
            "Precision of the model is 0.96\n",
            "F-Score is 0.97\n"
          ]
        }
      ]
    },
    {
      "cell_type": "markdown",
      "source": [
        "K-fold cross validation :"
      ],
      "metadata": {
        "id": "BGPOAhaxGxnc"
      }
    },
    {
      "cell_type": "code",
      "source": [
        "import tensorflow as tf\n",
        "import pathlib\n",
        "import numpy as np\n",
        "from sklearn.model_selection import KFold\n",
        "\n",
        "\n",
        "batch_size = 32\n",
        "\n",
        "kfold = KFold(n_splits=5, shuffle=True)\n",
        "\n",
        "for train, test in kfold.split(x_train, y_train):\n",
        "  \n",
        "  model = tf.keras.Sequential([\n",
        "  tf.keras.layers.Rescaling(1./255, input_shape=(256, 256, 1)),\n",
        "  tf.keras.layers.Conv2D(16, 3, padding='same', activation='relu'),\n",
        "  tf.keras.layers.MaxPooling2D(),\n",
        "  tf.keras.layers.Conv2D(32, 3, padding='same', activation='relu'),\n",
        "  tf.keras.layers.MaxPooling2D(),\n",
        "  tf.keras.layers.Conv2D(64, 3, padding='same', activation='relu'),\n",
        "  tf.keras.layers.MaxPooling2D(),\n",
        "  tf.keras.layers.Flatten(),\n",
        "  tf.keras.layers.Dense(128, activation='relu'),\n",
        "  tf.keras.layers.Dense(5)])\n",
        "\n",
        "  model.compile(optimizer='adam',\n",
        "              loss=tf.keras.losses.SparseCategoricalCrossentropy(from_logits=True),\n",
        "              metrics=['accuracy'])\n",
        "  history = model.fit(x_val, y_val,\n",
        "              batch_size=batch_size,\n",
        "              epochs=2)\n",
        "  scores = model.evaluate(x_test, y_test, verbose=0)"
      ],
      "metadata": {
        "colab": {
          "base_uri": "https://localhost:8080/"
        },
        "id": "vfX9XxdP9h8S",
        "outputId": "955593bd-232c-4066-9127-c9d44f4fde28"
      },
      "execution_count": null,
      "outputs": [
        {
          "output_type": "stream",
          "name": "stdout",
          "text": [
            "Epoch 1/2\n",
            "112/112 [==============================] - 6s 40ms/step - loss: 0.6428 - accuracy: 0.7056\n",
            "Epoch 2/2\n",
            "112/112 [==============================] - 4s 38ms/step - loss: 0.6026 - accuracy: 0.7199\n",
            "Epoch 1/2\n",
            "112/112 [==============================] - 5s 39ms/step - loss: 0.6485 - accuracy: 0.7110\n",
            "Epoch 2/2\n",
            "112/112 [==============================] - 4s 38ms/step - loss: 0.6107 - accuracy: 0.7199\n",
            "Epoch 1/2\n",
            "112/112 [==============================] - 5s 38ms/step - loss: 0.6604 - accuracy: 0.7135\n",
            "Epoch 2/2\n",
            "112/112 [==============================] - 4s 38ms/step - loss: 0.6027 - accuracy: 0.7199\n"
          ]
        }
      ]
    },
    {
      "cell_type": "markdown",
      "source": [
        "Hyper parameter tunning with **k-fold** :"
      ],
      "metadata": {
        "id": "J9ucC2zfyzpa"
      }
    },
    {
      "cell_type": "code",
      "source": [
        "# import the necessary packages\n",
        "from tensorflow.keras.models import Sequential\n",
        "from tensorflow.keras.layers import Flatten\n",
        "from tensorflow.keras.layers import Dropout\n",
        "from tensorflow.keras.layers import Dense\n",
        "from tensorflow.keras.optimizers import Adam"
      ],
      "metadata": {
        "id": "ewhfxC8oA3Dh"
      },
      "execution_count": null,
      "outputs": []
    },
    {
      "cell_type": "code",
      "source": [
        "def get_mlp_model(hiddenLayerOne=784, hiddenLayerTwo=256,\n",
        "\tdropout=0.2, learnRate=0.01):\n",
        "\t# initialize a sequential model and add layer to flatten the\n",
        "\t# input data\n",
        "\tmodel = Sequential()\n",
        "\tmodel.add(Flatten())\n",
        " \n",
        "\t# add two stacks of FC => RELU => DROPOUT\n",
        "\tmodel.add(Dense(hiddenLayerOne, activation=\"relu\",\n",
        "\t\tinput_shape=(784,)))\n",
        "\tmodel.add(Dropout(dropout))\n",
        "\tmodel.add(Dense(hiddenLayerTwo, activation=\"relu\"))\n",
        "\tmodel.add(Dropout(dropout))\n",
        "\t# add a softmax layer on top\n",
        "\tmodel.add(Dense(10, activation=\"softmax\"))\n",
        "\t# compile the model\n",
        "\tmodel.compile(\n",
        "\t\toptimizer=Adam(learning_rate=learnRate),\n",
        "\t\tloss=\"sparse_categorical_crossentropy\",\n",
        "\t\tmetrics=[\"accuracy\"])\n",
        "\t# return compiled model\n",
        "\treturn model"
      ],
      "metadata": {
        "id": "Ha4PUHXiA9Cc"
      },
      "execution_count": null,
      "outputs": []
    },
    {
      "cell_type": "code",
      "source": [
        "# import tensorflow and fix the random seed for better reproducibility\n",
        "import tensorflow as tf\n",
        "tf.random.set_seed(42)"
      ],
      "metadata": {
        "id": "f3r7IcSwukxM"
      },
      "execution_count": null,
      "outputs": []
    },
    {
      "cell_type": "code",
      "source": [
        "# assign our data \n",
        "trainData=x_train\n",
        "trainLabels=y_train\n",
        "testData=x_test\n",
        "testLabels=y_test"
      ],
      "metadata": {
        "id": "L4I5TXEAwzhi"
      },
      "execution_count": null,
      "outputs": []
    },
    {
      "cell_type": "markdown",
      "source": [
        "Before we can tune the hyperparameters to our network, let’s first obtain a baseline with our “default” configuration (i.e., hyperparameters, that based on our experience, we think will yield good accuracy)"
      ],
      "metadata": {
        "id": "Z3_z-Vxyjouf"
      }
    },
    {
      "cell_type": "code",
      "source": [
        "# initialize our model with the default hyperparameter values\n",
        "print(\"[INFO] initializing model...\")\n",
        "model = get_mlp_model()\n",
        "# train the network (i.e., no hyperparameter tuning)\n",
        "print(\"[INFO] training model...\")\n",
        "H = model.fit(x=trainData, y=trainLabels,\n",
        "\tvalidation_data=(testData, testLabels),\n",
        "\tbatch_size=8,\n",
        "\tepochs=10)\n",
        "# make predictions on the test set and evaluate it\n",
        "print(\"[INFO] evaluating network...\")\n",
        "accuracy = model.evaluate(testData, testLabels)[1]\n",
        "print(\"accuracy: {:.2f}%\".format(accuracy * 100))"
      ],
      "metadata": {
        "id": "0mOW_2FFBLVr",
        "colab": {
          "base_uri": "https://localhost:8080/"
        },
        "outputId": "321c5f57-2bfb-4ceb-c7ee-7a26f2ebbc07"
      },
      "execution_count": null,
      "outputs": [
        {
          "output_type": "stream",
          "name": "stdout",
          "text": [
            "[INFO] initializing model...\n",
            "[INFO] training model...\n",
            "Epoch 1/10\n",
            "445/445 [==============================] - 9s 15ms/step - loss: 28.9125 - accuracy: 0.7110 - val_loss: 0.5037 - val_accuracy: 0.7199\n",
            "Epoch 2/10\n",
            "445/445 [==============================] - 6s 14ms/step - loss: 0.7427 - accuracy: 0.7264 - val_loss: 0.4397 - val_accuracy: 0.7199\n",
            "Epoch 3/10\n",
            "445/445 [==============================] - 6s 14ms/step - loss: 0.4882 - accuracy: 0.7537 - val_loss: 0.4012 - val_accuracy: 0.7754\n",
            "Epoch 4/10\n",
            "445/445 [==============================] - 6s 14ms/step - loss: 0.4168 - accuracy: 0.8357 - val_loss: 0.3419 - val_accuracy: 0.8352\n",
            "Epoch 5/10\n",
            "445/445 [==============================] - 7s 15ms/step - loss: 0.3585 - accuracy: 0.8596 - val_loss: 0.3256 - val_accuracy: 0.9260\n",
            "Epoch 6/10\n",
            "445/445 [==============================] - 6s 14ms/step - loss: 0.3861 - accuracy: 0.8539 - val_loss: 0.6144 - val_accuracy: 0.7199\n",
            "Epoch 7/10\n",
            "445/445 [==============================] - 6s 14ms/step - loss: 0.5844 - accuracy: 0.7199 - val_loss: 0.5966 - val_accuracy: 0.7199\n",
            "Epoch 8/10\n",
            "445/445 [==============================] - 6s 14ms/step - loss: 0.5356 - accuracy: 0.7194 - val_loss: 0.4617 - val_accuracy: 0.7199\n",
            "Epoch 9/10\n",
            "445/445 [==============================] - 6s 14ms/step - loss: 0.5964 - accuracy: 0.7199 - val_loss: 0.5932 - val_accuracy: 0.7199\n",
            "Epoch 10/10\n",
            "445/445 [==============================] - 6s 14ms/step - loss: 0.5963 - accuracy: 0.7199 - val_loss: 0.5932 - val_accuracy: 0.7199\n",
            "[INFO] evaluating network...\n",
            "38/38 [==============================] - 0s 6ms/step - loss: 0.5932 - accuracy: 0.7199\n",
            "accuracy: 71.99%\n"
          ]
        }
      ]
    },
    {
      "cell_type": "markdown",
      "source": [
        "Using the default hyperparameters from our implementation with no hyperparameter tuning, we could reach 71.99% accuracy."
      ],
      "metadata": {
        "id": "LHGlmzGUjxT2"
      }
    },
    {
      "cell_type": "markdown",
      "source": [
        "Now apply hyper-parameter tunning:"
      ],
      "metadata": {
        "id": "QWCeiSfuBTXw"
      }
    },
    {
      "cell_type": "code",
      "source": [
        "# import tensorflow and fix the random seed for better reproducibility\n",
        "import tensorflow as tf\n",
        "tf.random.set_seed(42)\n",
        "# import the necessary packages\n",
        "from tensorflow.keras.wrappers.scikit_learn import KerasClassifier\n",
        "from sklearn.model_selection import RandomizedSearchCV\n",
        "from tensorflow.keras.datasets import mnist"
      ],
      "metadata": {
        "id": "f4TFDJqYBWkl"
      },
      "execution_count": null,
      "outputs": []
    },
    {
      "cell_type": "markdown",
      "source": [
        "We’ll be tuning:\n",
        "\n",
        "* The number of nodes in the first fully connected layer\n",
        "* The number of nodes in the second fully connected layer\n",
        "* Our learning rate\n",
        "* Dropout rate\n",
        "* Batch size\n",
        "* Number of epochs to train for"
      ],
      "metadata": {
        "id": "7gVBxIp_j_3n"
      }
    },
    {
      "cell_type": "code",
      "source": [
        "# wrap our model into a scikit-learn compatible classifier\n",
        "print(\"[INFO] initializing model...\")\n",
        "model = KerasClassifier(build_fn=get_mlp_model, verbose=0)\n",
        "# define a grid of the hyperparameter search space\n",
        "hiddenLayerOne = [256, 512, 784]\n",
        "hiddenLayerTwo = [128, 256, 512]\n",
        "learnRate = [1e-2, 1e-3, 1e-4]\n",
        "dropout = [0.3, 0.4, 0.5]\n",
        "batchSize = [4, 8, 16, 32]\n",
        "epochs = [10, 20, 30, 40]\n",
        "# create a dictionary from the hyperparameter grid\n",
        "grid = dict(\n",
        "\thiddenLayerOne=hiddenLayerOne,\n",
        "\tlearnRate=learnRate,\n",
        "\thiddenLayerTwo=hiddenLayerTwo,\n",
        "\tdropout=dropout,\n",
        "\tbatch_size=batchSize,\n",
        "\tepochs=epochs\n",
        ")"
      ],
      "metadata": {
        "id": "VeyMLyjUyMIv"
      },
      "execution_count": null,
      "outputs": []
    },
    {
      "cell_type": "markdown",
      "source": [
        "initialize a random search with a **3-fold** cross-validation"
      ],
      "metadata": {
        "id": "WN-AKk4pMajp"
      }
    },
    {
      "cell_type": "code",
      "source": [
        "# start the hyperparameter search process\n",
        "print(\"[INFO] performing random search...\")\n",
        "searcher = RandomizedSearchCV(estimator=model, n_jobs=-1, cv=3,\n",
        "\tparam_distributions=grid, scoring=\"accuracy\")\n",
        "searchResults = searcher.fit(trainData, trainLabels)\n",
        "# summarize grid search information\n",
        "bestScore = searchResults.best_score_\n",
        "bestParams = searchResults.best_params_\n",
        "print(\"[INFO] best score is {:.2f} using {}\".format(bestScore,\n",
        "\tbestParams))\n",
        "#Once the search is complete, we obtain the bestScore and bestParams found during the search"
      ],
      "metadata": {
        "id": "jAixgYwSKQRf"
      },
      "execution_count": null,
      "outputs": []
    },
    {
      "cell_type": "code",
      "source": [
        "# extract the best model, make predictions on our data, and show a\n",
        "# classification report\n",
        "print(\"[INFO] evaluating the best model...\")\n",
        "bestModel = searchResults.best_estimator_\n",
        "accuracy = bestModel.score(testData, testLabels)\n",
        "print(\"accuracy: {:.2f}%\".format(accuracy * 100))"
      ],
      "metadata": {
        "id": "aljncst4BjqG"
      },
      "execution_count": null,
      "outputs": []
    },
    {
      "cell_type": "markdown",
      "source": [
        "here should be print the result but the run terminate cause the RAM size.\n"
      ],
      "metadata": {
        "id": "tVO9b1Mh3ZJD"
      }
    },
    {
      "cell_type": "markdown",
      "source": [
        "![Screen Shot 2023-01-27 at 7.58.59 PM.png](data:image/png;base64,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)"
      ],
      "metadata": {
        "id": "kp2DkD8sKpci"
      }
    },
    {
      "cell_type": "markdown",
      "source": [
        "The above picture is the result that is supposed to be printed. And take the take these best parameters to achive higher accuracy ."
      ],
      "metadata": {
        "id": "1VeKLuzdK7no"
      }
    }
  ]
}